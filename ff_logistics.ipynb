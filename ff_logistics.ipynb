{
 "cells": [
  {
   "cell_type": "code",
   "execution_count": 1,
   "metadata": {},
   "outputs": [],
   "source": [
    "#Small logistics question to optimize packages used with a limited inventory for a designated amount of items.\n",
    "#There are three arguments used here:\n",
    "#items are the items that need to fill up the packages in the inventory\n",
    "#available_large_packages are packages that can be filled with 5 items\n",
    "#available_small_packages are packages that can be filled individually (i.e. 1 item = 1 package)\n",
    "#Objective: Find out the minimum number of packages necessary to fulfill the items for an order.\n",
    "def minimal_number_of_packages(items, available_large_packages, available_small_packages):\n",
    "    lpkg = available_large_packages * 5\n",
    "    tpkg = available_small_packages + lpkg\n",
    "    \n",
    "    if items < tpkg:      \n",
    "        remainder = items % 5 \n",
    "        d5 = items - remainder  \n",
    "        if d5 >= lpkg: \n",
    "            nitem = d5 - lpkg\n",
    "            if nitem > 0:\n",
    "                return(nitem + remainder + (lpkg/5))\n",
    "            elif nitem == 0:\n",
    "                return((lpkg/5) + remainder)      \n",
    "        elif d5 < lpkg:\n",
    "            return((d5/5) + remainder)\n",
    "    else: \n",
    "        return(-1)\n",
    "    "
   ]
  },
  {
   "cell_type": "code",
   "execution_count": 2,
   "metadata": {},
   "outputs": [
    {
     "name": "stdout",
     "output_type": "stream",
     "text": [
      "8.0\n"
     ]
    }
   ],
   "source": [
    "# 16 items \n",
    "# 2 large packages = 10 items\n",
    "# 10 small packages = 10 items\n",
    "# 8 packages\n",
    "print(minimal_number_of_packages(16, 2, 10))"
   ]
  },
  {
   "cell_type": "code",
   "execution_count": 3,
   "metadata": {},
   "outputs": [
    {
     "name": "stdout",
     "output_type": "stream",
     "text": [
      "12.0\n"
     ]
    }
   ],
   "source": [
    "# 20 items\n",
    "# 2 large packages = 10 items\n",
    "# 20 small packages = 20 items\n",
    "print(minimal_number_of_packages(20, 2, 20))"
   ]
  },
  {
   "cell_type": "code",
   "execution_count": 4,
   "metadata": {},
   "outputs": [
    {
     "name": "stdout",
     "output_type": "stream",
     "text": [
      "3.0\n"
     ]
    }
   ],
   "source": [
    "# 11 items\n",
    "# 2 large packages = 10 items\n",
    "# 10 small packages = 10 items\n",
    "# 3 packages\n",
    "print(minimal_number_of_packages(11, 2, 10))"
   ]
  },
  {
   "cell_type": "code",
   "execution_count": 5,
   "metadata": {},
   "outputs": [
    {
     "name": "stdout",
     "output_type": "stream",
     "text": [
      "5.0\n"
     ]
    }
   ],
   "source": [
    "# 9 items\n",
    "# 2 large package = 10 items\n",
    "# 10 small packages = 10 items\n",
    "print(minimal_number_of_packages(9, 2, 10))"
   ]
  },
  {
   "cell_type": "code",
   "execution_count": 6,
   "metadata": {},
   "outputs": [
    {
     "name": "stdout",
     "output_type": "stream",
     "text": [
      "-1\n"
     ]
    }
   ],
   "source": [
    "# 15 items\n",
    "# 1 large package = 5 items\n",
    "# 10 small packages = 10 items\n",
    "print(minimal_number_of_packages(15, 1, 10))"
   ]
  }
 ],
 "metadata": {
  "kernelspec": {
   "display_name": "Python 3",
   "language": "python",
   "name": "python3"
  },
  "language_info": {
   "codemirror_mode": {
    "name": "ipython",
    "version": 3
   },
   "file_extension": ".py",
   "mimetype": "text/x-python",
   "name": "python",
   "nbconvert_exporter": "python",
   "pygments_lexer": "ipython3",
   "version": "3.8.3"
  }
 },
 "nbformat": 4,
 "nbformat_minor": 4
}
